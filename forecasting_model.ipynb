import pandas as pd
import numpy as np
import matplotlib.pyplot as plt
import seaborn as sns

# Set a random seed for reproducibility
np.random.seed(42)

# --- 1. Data Simulation ---
print("--- 1. Data Simulation ---")
# Parameters
start_time = 8  # 8 AM
end_time = 20   # 8 PM (24-hour format)
num_days = 14
hours_per_day = end_time - start_time + 1

# Generate time labels
hours = [f'{h:02d}:00' for h in range(start_time, end_time + 1)]

# Create a base sinusoidal pattern for daily volume
# This simulates a typical bell curve for call volume during the day
time_points = np.linspace(0, 2 * np.pi, hours_per_day)
base_pattern = 50 + 40 * np.sin(time_points - np.pi/2) # Shifted sine wave

# Ensure non-negative base pattern
base_pattern[base_pattern < 0] = 0

# Generate simulated data for each day
all_data = []
dates = pd.date_range(start='2024-07-01', periods=num_days, freq='D') # Adjusted for current year

for day_num in range(num_days):
    # Add random noise to the base pattern for each day
    daily_volume = base_pattern + np.random.normal(0, 10, hours_per_day)
    daily_volume[daily_volume < 0] = 0 # Ensure no negative volumes
    daily_volume = np.round(daily_volume).astype(int)

    df_day = pd.DataFrame({
        'Date': dates[day_num],
        'Hour': hours,
        'Volume': daily_volume
    })
    all_data.append(df_day)

raw_data_df = pd.concat(all_data, ignore_index=True)

print("Raw Data Head:")
print(raw_data_df.head())
print("\nRaw Data Info:")
raw_data_df.info()

# --- 2. Calculate Hourly Averages ---
print("\n--- 2. Calculate Hourly Averages ---")
hourly_average_df = raw_data_df.groupby('Hour')['Volume'].mean().reset_index()
hourly_average_df.rename(columns={'Volume': 'Average Volume'}, inplace=True)

# Ensure the hours are sorted correctly for plotting
# Convert 'Hour' column to datetime objects for proper sorting, then extract hour string
hourly_average_df['Hour_Sort_Key'] = pd.to_datetime(hourly_average_df['Hour'], format='%H:%M').dt.hour
hourly_average_df = hourly_average_df.sort_values(by='Hour_Sort_Key').drop(columns='Hour_Sort_Key')


print("\nHourly Average Volume:")
print(hourly_average_df)

# --- 3. Simple Forecasting ---
print("\n--- 3. Simple Forecasting ---")
# Adjust forecast date relative to current date or a fixed date
forecast_date = pd.Timestamp('2025-07-15') # Example: July 15th of next year, adjusted for current year context

forecast_df = hourly_average_df.copy()
forecast_df['Date'] = forecast_date
forecast_df.rename(columns={'Average Volume': 'Forecasted Volume'}, inplace=True)
forecast_df['Forecasted Volume'] = np.round(forecast_df['Forecasted Volume']).astype(int)

print("Forecast for", forecast_date.strftime('%Y-%m-%d'), ":")
print(forecast_df[['Hour', 'Forecasted Volume']])

# --- 4. Visualization ---
print("\n--- 4. Visualization ---")
plt.figure(figsize=(15, 8))

# Plot historical data (grey lines)
# Ensure consistent hour ordering for historical data as well for plotting
raw_data_df['Hour_Sort_Key'] = pd.to_datetime(raw_data_df['Hour'], format='%H:%M').dt.hour
raw_data_df_sorted = raw_data_df.sort_values(by=['Date', 'Hour_Sort_Key'])

for i, date in enumerate(raw_data_df_sorted['Date'].unique()):
    daily_data = raw_data_df_sorted[raw_data_df_sorted['Date'] == date]
    plt.plot(daily_data['Hour'], daily_data['Volume'], color='lightgrey', alpha=0.7, label='Historical Volume' if i == 0 else "")

# Plot average hourly volume (blue line)
plt.plot(hourly_average_df['Hour'], hourly_average_df['Average Volume'], color='blue', linewidth=3, label='Average Hourly Volume')

# Plot forecasted volume (red dashed line)
plt.plot(forecast_df['Hour'], forecast_df['Forecasted Volume'], color='red', linestyle='--', linewidth=2, label=f'Forecasted Volume ({forecast_date.strftime("%b %d")})')

plt.title('Hourly Volume: Historical, Average, and Forecast', fontsize=16)
plt.xlabel('Hour of Day', fontsize=12)
plt.ylabel('Volume', fontsize=12)
plt.xticks(rotation=45)
plt.grid(axis='y', linestyle='--', alpha=0.7)
plt.legend()
plt.tight_layout()
plt.show()

print("\nExecution complete. The plot has been generated above.")
